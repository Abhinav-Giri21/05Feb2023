{
 "cells": [
  {
   "cell_type": "markdown",
   "id": "a20dc66e-ede9-43f2-826d-0ef94ff02970",
   "metadata": {},
   "source": [
    "Q1.Explain Class and Object with respect to Object-Oriented Programming.Give a suitable example.\n",
    "Ans.The class is a user-defined data structure that binds the data members and methods into a single unit.\n",
    "    Example-\n",
    "    class car:\n",
    "         pass\n",
    "    \n",
    "An object is an instance of a class.It is a collection of attributes and methods. \n",
    "Example:\n",
    "class car:\n",
    "     name='Mercedes'\n",
    "cars=car()"
   ]
  },
  {
   "cell_type": "markdown",
   "id": "47051d5f-edb9-4673-b25b-d70f32957f77",
   "metadata": {},
   "source": [
    "Q2.Name the four pillars of OOPs.\n",
    "Ans.Four pillars of OOPs are-\n",
    "   1.Abstraction\n",
    "   2.Encapsulation\n",
    "   3.Inheritance\n",
    "   4.Polymorphism"
   ]
  },
  {
   "cell_type": "markdown",
   "id": "9e5985a1-bf56-42a8-b45d-6c4945858e9a",
   "metadata": {},
   "source": [
    "Q3.Explain why the __init__() function is used.Give a suitable example.\n",
    "Ans.All classes have a function called __init__(), which is always executed when the class is being initiated.\n",
    "    The __init__() function is used to assign values to object properties, or other operations that are necessary to do when the object is being           created."
   ]
  },
  {
   "cell_type": "markdown",
   "id": "a5bc5350-4c78-463e-bff6-7c0d7ee0ff4a",
   "metadata": {},
   "source": [
    "Q4.Why self is used in OOPs?\n",
    "Ans.Self variable in OOPs is used to represent the instance of a class.It works as a reference to the object."
   ]
  },
  {
   "cell_type": "markdown",
   "id": "cc78a03c-2fc1-4981-9d73-ad127653bb2d",
   "metadata": {},
   "source": [
    "Q5.What is inheritance? Give an example for each type of inheritance.\n",
    "Ans.Inheritance allows us to define a class that inherits all the methods and properties from another class.\n",
    "    Parent class is the class being inherited from, also called base class.\n",
    "    Child class is the class that inherits from another class, also called derived class.\n",
    "    \n",
    "Types of Inheritance:\n",
    "    \n",
    "   1.Single Inheritance: \n",
    "      Single inheritance enables a derived class to inherit properties from a single parent class, thus enabling code reusability and the addition of       new features to existing code.\n",
    "   2.Multiple Inheritance: \n",
    "      When a class can be derived from more than one base class this type of inheritance is called multiple inheritances. In multiple inheritances,         all the features of the base classes are inherited into the derived class. \n",
    "   3.Multilevel Inheritance :\n",
    "      In multilevel inheritance, features of the base class and the derived class are further inherited into the new derived class. This is similar to       a relationship representing a child and a grandfather. \n",
    "   4.Hierarchical Inheritance: \n",
    "      When more than one derived class are created from a single base this type of inheritance is called hierarchical inheritance. In this program, we       have a parent (base) class and two child (derived) classes.\n"
   ]
  }
 ],
 "metadata": {
  "kernelspec": {
   "display_name": "Python 3 (ipykernel)",
   "language": "python",
   "name": "python3"
  },
  "language_info": {
   "codemirror_mode": {
    "name": "ipython",
    "version": 3
   },
   "file_extension": ".py",
   "mimetype": "text/x-python",
   "name": "python",
   "nbconvert_exporter": "python",
   "pygments_lexer": "ipython3",
   "version": "3.10.8"
  }
 },
 "nbformat": 4,
 "nbformat_minor": 5
}
